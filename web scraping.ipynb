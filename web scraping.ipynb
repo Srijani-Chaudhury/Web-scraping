{
 "cells": [
  {
   "cell_type": "code",
   "execution_count": 3,
   "metadata": {},
   "outputs": [],
   "source": [
    "import pandas as pd\n",
    "import requests\n",
    "from bs4 import BeautifulSoup\n",
    "import numpy as np"
   ]
  },
  {
   "cell_type": "code",
   "execution_count": 67,
   "metadata": {},
   "outputs": [],
   "source": [
    "\n",
    "companyname=[]\n",
    "companywebsite=[]\n",
    "ratings=[]\n",
    "reviews=[]\n",
    "sector=[]\n",
    "employees=[]\n",
    "age=[]\n",
    "headquarter=[]\n",
    "final=pd.DataFrame()\n",
    "for j in range(1,201):\n",
    "    \n",
    "        headers = {'User-Agent': 'Mozilla/5.0 (Windows NT 6.3; Win64; x64) AppleWebKit/537.36 (KHTML, like Gecko) Chrome/80.0.3987.162 Safari/537.36'}\n",
    "        webpage=requests.get('https://www.ambitionbox.com/list-of-companies?utm_source=naukri&utm_medium=gnb&page={}'.format(j),headers=headers).text\n",
    "        soup=BeautifulSoup(webpage,'lxml')\n",
    "        company=soup.find_all('div',class_='company-content-wrapper')\n",
    "        \n",
    "        for i in company:\n",
    "            companyname.append(i.find('h2').text.strip())\n",
    "            #raw = requests.get(\"https://www.google.com/search?q={}\".format(i.find('h2').text),headers=headers).text\n",
    "            #soup2=BeautifulSoup(raw,'lxml')\n",
    "            #try:\n",
    "                #companywebsite.append(soup2.find('span',class_=\"ellip\").text)\n",
    "\n",
    "            #except:\n",
    "                #companywebsite.append(np.nan)\n",
    "            try:    \n",
    "                ratings.append(i.find('p',class_='rating').text.strip())\n",
    "            except:\n",
    "                ratings.append(np.nan)\n",
    "            try:    \n",
    "                reviews.append(i.find('a',class_='review-count').text.strip())\n",
    "            except:\n",
    "                reviews.append(np.nan)\n",
    "            try:    \n",
    "                sector.append(i.find_all('p',class_='infoEntity')[0].text.strip())\n",
    "            except:\n",
    "                sector.append(np.nan)\n",
    "            try:\n",
    "                headquarter.append(i.find_all('p',class_='infoEntity')[1].text.strip())\n",
    "            except:\n",
    "                headquarter.append(np.nan)\n",
    "            try:    \n",
    "                age.append(i.find_all('p',class_='infoEntity')[2].text.strip())\n",
    "            except:\n",
    "                age.append(np.nan)\n",
    "\n",
    "            try:    \n",
    "                employees.append(i.find_all('p',class_='infoEntity')[3].text.strip())\n",
    "            except:\n",
    "                employees.append(np.nan)\n",
    "        d={'companyname':companyname,'ratings':ratings,'reviews':reviews,'sector':sector,'headquarter':headquarter,'age':age,'employees':employees}    \n",
    "        df=pd.DataFrame(d)\n",
    "        try:\n",
    "            final=final.append(df,ignore_index=True)    \n",
    "        except:\n",
    "            final=final.append(np.nan,ignore_index=True)\n",
    "\n",
    "    "
   ]
  },
  {
   "cell_type": "code",
   "execution_count": 71,
   "metadata": {},
   "outputs": [],
   "source": [
    "final.to_csv('companies.csv')\n",
    "\n"
   ]
  }
 ],
 "metadata": {
  "kernelspec": {
   "display_name": "Python 3",
   "language": "python",
   "name": "python3"
  },
  "language_info": {
   "codemirror_mode": {
    "name": "ipython",
    "version": 3
   },
   "file_extension": ".py",
   "mimetype": "text/x-python",
   "name": "python",
   "nbconvert_exporter": "python",
   "pygments_lexer": "ipython3",
   "version": "3.7.4"
  }
 },
 "nbformat": 4,
 "nbformat_minor": 2
}
